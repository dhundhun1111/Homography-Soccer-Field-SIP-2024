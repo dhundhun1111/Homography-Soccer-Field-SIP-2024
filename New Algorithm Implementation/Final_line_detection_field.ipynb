{
 "cells": [
  {
   "cell_type": "markdown",
   "metadata": {},
   "source": [
    "Line Detection"
   ]
  },
  {
   "cell_type": "code",
   "execution_count": 1,
   "metadata": {},
   "outputs": [],
   "source": [
    "import cv2\n",
    "import numpy as np\n",
    "import matplotlib.pyplot as plt"
   ]
  },
  {
   "cell_type": "code",
   "execution_count": 2,
   "metadata": {},
   "outputs": [
    {
     "name": "stdout",
     "output_type": "stream",
     "text": [
      "[[[555.          1.134464 ]]\n",
      "\n",
      " [[243.          1.6406095]]\n",
      "\n",
      " [[305.          1.6406095]]\n",
      "\n",
      " [[309.          1.6406095]]\n",
      "\n",
      " [[344.          1.2566371]]\n",
      "\n",
      " [[569.          1.134464 ]]\n",
      "\n",
      " [[254.          1.6231562]]\n",
      "\n",
      " [[257.          1.6231562]]\n",
      "\n",
      " [[567.          1.1170107]]\n",
      "\n",
      " [[260.          1.6231562]]\n",
      "\n",
      " [[337.          1.2566371]]\n",
      "\n",
      " [[570.          1.1170107]]]\n"
     ]
    }
   ],
   "source": [
    "# Load the image\n",
    "image_path = './assets/warped_image.png'\n",
    "image = cv2.imread(image_path)\n",
    "\n",
    "# Convert to grayscale\n",
    "gray = cv2.cvtColor(image, cv2.COLOR_BGR2GRAY)\n",
    "\n",
    "# Apply Canny edge detector\n",
    "edges = cv2.Canny(gray, 50, 150, apertureSize=3)\n",
    "\n",
    "# Use Hough Line Transform to detect lines\n",
    "lines = cv2.HoughLines(edges, 1, np.pi / 180, 140)\n",
    "\n",
    "print(lines)\n"
   ]
  },
  {
   "cell_type": "code",
   "execution_count": 3,
   "metadata": {},
   "outputs": [],
   "source": [
    "\n",
    "# Create a copy of the original image to draw lines\n",
    "line_image = np.copy(image)\n",
    "# line_image = np.zeros_like(image)\n",
    "\n",
    "# Draw lines on the image in red color\n",
    "if lines is not None:\n",
    "    for line in lines:\n",
    "        rho, theta = line[0]\n",
    "        a = np.cos(theta)\n",
    "        b = np.sin(theta)\n",
    "        x0 = a * rho\n",
    "        y0 = b * rho\n",
    "        x1 = int(x0 + 1000 * (-b))\n",
    "        y1 = int(y0 + 1000 * (a))\n",
    "        x2 = int(x0 - 1000 * (-b))\n",
    "        y2 = int(y0 - 1000 * (a))\n",
    "        cv2.line(line_image, (x1, y1), (x2, y2), (0, 0, 255), 2)  # Red color\n",
    "\n",
    "# # Display the original image, edges, and the image with lines\n",
    "# plt.figure(figsize=(15, 5))\n",
    "# plt.subplot(1, 3, 1)\n",
    "# plt.title('Original Image')\n",
    "# plt.imshow(cv2.cvtColor(image, cv2.COLOR_BGR2RGB))\n",
    "\n",
    "# plt.subplot(1, 3, 2)\n",
    "# plt.title('Edges')\n",
    "# plt.imshow(edges, cmap='gray')\n",
    "\n",
    "# plt.subplot(1, 3, 3)\n",
    "# plt.title('Lines Detected')\n",
    "# plt.imshow(cv2.cvtColor(line_image, cv2.COLOR_BGR2RGB))\n",
    "\n",
    "# plt.show()\n"
   ]
  },
  {
   "cell_type": "markdown",
   "metadata": {},
   "source": [
    "Removal of noise lines"
   ]
  },
  {
   "cell_type": "code",
   "execution_count": 4,
   "metadata": {},
   "outputs": [],
   "source": [
    "# Parameters for line merging\n",
    "rho_threshold = 15\n",
    "theta_threshold = np.pi / 90\n",
    "\n",
    "# Function to merge lines\n",
    "def merge_lines(lines, rho_threshold, theta_threshold):\n",
    "    merged_lines = []\n",
    "    for line in lines:\n",
    "        rho, theta = line[0]\n",
    "        merged = False\n",
    "        for merged_line in merged_lines:\n",
    "            rho_m, theta_m = merged_line\n",
    "            if abs(rho - rho_m) < rho_threshold and abs(theta - theta_m) < theta_threshold:\n",
    "                merged_lines.remove(merged_line)\n",
    "                merged_lines.append(((rho + rho_m) / 2, (theta + theta_m) / 2))\n",
    "                merged = True\n",
    "                break\n",
    "        if not merged:\n",
    "            merged_lines.append((rho, theta))\n",
    "    return merged_lines\n",
    "\n",
    "# Merge lines\n",
    "merged_lines = merge_lines(lines, rho_threshold, theta_threshold)\n",
    "\n",
    "# # Create a copy of the original image to draw lines\n",
    "line_image = np.copy(image)\n",
    "\n",
    "# Draw merged lines on the image in red color\n",
    "if merged_lines is not None:\n",
    "    for rho, theta in merged_lines:\n",
    "        a = np.cos(theta)\n",
    "        b = np.sin(theta)\n",
    "        x0 = a * rho\n",
    "        y0 = b * rho\n",
    "        x1 = int(x0 + 1000 * (-b))\n",
    "        y1 = int(y0 + 1000 * (a))\n",
    "        x2 = int(x0 - 1000 * (-b))\n",
    "        y2 = int(y0 - 1000 * (a))\n",
    "        cv2.line(line_image, (x1, y1), (x2, y2), (0, 0, 255), 2)  # Red color\n",
    "\n",
    "# # Display the original image, edges, and the image with lines\n",
    "# plt.figure(figsize=(15, 5))\n",
    "# plt.subplot(1, 3, 1)\n",
    "# plt.title('Original Image')\n",
    "# plt.imshow(cv2.cvtColor(image, cv2.COLOR_BGR2RGB))\n",
    "\n",
    "# plt.subplot(1, 3, 2)\n",
    "# plt.title('Edges')\n",
    "# plt.imshow(edges, cmap='gray')\n",
    "\n",
    "# plt.subplot(1, 3, 3)\n",
    "# plt.title('Lines Detected')\n",
    "# plt.imshow(cv2.cvtColor(line_image, cv2.COLOR_BGR2RGB))\n",
    "# plt.imsave('./assets/lines_detected.png', cv2.cvtColor(line_image, cv2.COLOR_BGR2RGB))\n",
    "\n",
    "# plt.show()"
   ]
  },
  {
   "cell_type": "code",
   "execution_count": 5,
   "metadata": {},
   "outputs": [],
   "source": [
    "# Function to find the intersection point of two lines\n",
    "def intersection(line1, line2):\n",
    "    rho1, theta1 = line1\n",
    "    rho2, theta2 = line2\n",
    "    A = np.array([\n",
    "        [np.cos(theta1), np.sin(theta1)],\n",
    "        [np.cos(theta2), np.sin(theta2)]\n",
    "    ])\n",
    "    b = np.array([[rho1], [rho2]])\n",
    "    if np.linalg.det(A) != 0:  # Check if the determinant is non-zero (lines are not parallel)\n",
    "        x0, y0 = np.linalg.solve(A, b)\n",
    "        return int(np.round(x0)), int(np.round(y0))\n",
    "    else:\n",
    "        return None\n",
    "        \n",
    "# # Find intersections\n",
    "# intersections = []\n",
    "# for i in range(len(merged_lines)):\n",
    "#     for j in range(i + 1, len(merged_lines)):\n",
    "#         intersect = intersection(merged_lines[i], merged_lines[j])\n",
    "#         if intersect:\n",
    "#             intersections.append(intersect)\n",
    "\n",
    "# # Draw intersections on the image in blue color\n",
    "# for point in intersections:\n",
    "#     cv2.circle(line_image, point, 5, (255, 0, 0), -1)  # Blue color\n",
    "\n",
    "# # Display the original image, edges, and the image with lines and intersections\n",
    "# plt.figure(figsize=(15, 5))\n",
    "# plt.subplot(1, 4, 1)\n",
    "# plt.title('Original Image')\n",
    "# plt.imshow(cv2.cvtColor(image, cv2.COLOR_BGR2RGB))\n",
    "\n",
    "# plt.subplot(1, 4, 2)\n",
    "# plt.title('Edges')\n",
    "# plt.imshow(edges, cmap='gray')\n",
    "\n",
    "# plt.subplot(1, 4, 3)\n",
    "# plt.title('Lines Detected')\n",
    "# plt.imshow(cv2.cvtColor(line_image, cv2.COLOR_BGR2RGB))\n",
    "\n",
    "# plt.subplot(1, 4, 4)\n",
    "# plt.title('Intersections')\n",
    "# plt.imshow(cv2.cvtColor(line_image, cv2.COLOR_BGR2RGB))\n",
    "\n",
    "# plt.show()"
   ]
  },
  {
   "cell_type": "code",
   "execution_count": 6,
   "metadata": {},
   "outputs": [
    {
     "data": {
      "image/png": "[encoded data removed]",
      "text/plain": [
       "<Figure size 1500x500 with 3 Axes>"
      ]
     },
     "metadata": {},
     "output_type": "display_data"
    },
    {
     "name": "stdout",
     "output_type": "stream",
     "text": [
      "Intersection Points: [(-3326, 75), (127, 317), (583, 349), (267, 271), (695, 295), (1726, -203)]\n"
     ]
    }
   ],
   "source": [
    "# Function to calculate intersection point of two lines given in polar coordinates\n",
    "def get_intersection(line1, line2):\n",
    "    rho1, theta1 = line1\n",
    "    rho2, theta2 = line2\n",
    "    A = np.array([[np.cos(theta1), np.sin(theta1)], [np.cos(theta2), np.sin(theta2)]])\n",
    "    b = np.array([rho1, rho2])\n",
    "    x, y = np.linalg.solve(A, b)\n",
    "    return (int(np.round(x)), int(np.round(y)))\n",
    "\n",
    "# Find intersection points\n",
    "intersection_points = []\n",
    "for i in range(len(merged_lines)):\n",
    "    for j in range(i + 1, len(merged_lines)):\n",
    "        intersection = get_intersection(merged_lines[i], merged_lines[j])\n",
    "        intersection_points.append(intersection)\n",
    "\n",
    "# Create a copy of the original image to draw lines and points\n",
    "line_image = np.copy(image)\n",
    "\n",
    "# Draw merged lines on the image in red color and label them\n",
    "for idx, (rho, theta) in enumerate(merged_lines):\n",
    "    a = np.cos(theta)\n",
    "    b = np.sin(theta)\n",
    "    x0 = a * rho\n",
    "    y0 = b * rho\n",
    "    x1 = int(x0 + 1000 * (-b))\n",
    "    y1 = int(y0 + 1000 * (a))\n",
    "    x2 = int(x0 - 1000 * (-b))\n",
    "    y2 = int(y0 - 1000 * (a))\n",
    "    cv2.line(line_image, (x1, y1), (x2, y2), (0, 0, 255), 2)  # Red color\n",
    "    # Label the line\n",
    "    cv2.putText(line_image, f'L{idx+1}', (x1, y1), cv2.FONT_HERSHEY_SIMPLEX, 0.5, (0, 255, 0), 1, cv2.LINE_AA)\n",
    "\n",
    "# Draw intersection points on the image and label them\n",
    "for idx, (x, y) in enumerate(intersection_points):\n",
    "    cv2.circle(line_image, (x, y), 5, (255, 0, 0), -1)  # Blue color\n",
    "    # Label the intersection point\n",
    "    cv2.putText(line_image, f'P{idx+1}', (x, y), cv2.FONT_HERSHEY_SIMPLEX, 0.5, (0, 255, 0), 1, cv2.LINE_AA)\n",
    "\n",
    "# Display the original image, edges, and the image with lines and points\n",
    "plt.figure(figsize=(15, 5))\n",
    "plt.subplot(1, 3, 1)\n",
    "plt.title('Original Image')\n",
    "plt.imshow(cv2.cvtColor(image, cv2.COLOR_BGR2RGB))\n",
    "\n",
    "plt.subplot(1, 3, 2)\n",
    "plt.title('Edges')\n",
    "plt.imshow(edges, cmap='gray')\n",
    "\n",
    "plt.subplot(1, 3, 3)\n",
    "plt.title('Lines and Intersections')\n",
    "plt.imshow(cv2.cvtColor(line_image, cv2.COLOR_BGR2RGB))\n",
    "plt.imsave('./assets/lines_intersections.png', cv2.cvtColor(line_image, cv2.COLOR_BGR2RGB))\n",
    "\n",
    "plt.show()\n",
    "\n",
    "# Print intersection points\n",
    "print(\"Intersection Points:\", intersection_points)"
   ]
  },
  {
   "cell_type": "code",
   "execution_count": 7,
   "metadata": {},
   "outputs": [
    {
     "name": "stdout",
     "output_type": "stream",
     "text": [
      "[(-3326, 75), (127, 317), (583, 349), (267, 271), (695, 295), (1726, -203)]\n"
     ]
    }
   ],
   "source": [
    "print(intersection_points)"
   ]
  }
 ],
 "metadata": {
  "kernelspec": {
   "display_name": "Python 3",
   "language": "python",
   "name": "python3"
  },
  "language_info": {
   "codemirror_mode": {
    "name": "ipython",
    "version": 3
   },
   "file_extension": ".py",
   "mimetype": "text/x-python",
   "name": "python",
   "nbconvert_exporter": "python",
   "pygments_lexer": "ipython3",
   "version": "3.12.3"
  }
 },
 "nbformat": 4,
 "nbformat_minor": 2
}
